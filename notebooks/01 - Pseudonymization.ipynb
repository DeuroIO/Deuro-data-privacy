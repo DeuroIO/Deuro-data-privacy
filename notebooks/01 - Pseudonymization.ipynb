{
 "cells": [
  {
   "cell_type": "markdown",
   "metadata": {},
   "source": [
    "### 01. Pseudonymization\n",
    "\n",
    "In this notebook, we'll explore pseudonymization methods such as hashing, masking and homomorphic pseudonymization.\n",
    "\n",
    "For more reading on the topic, please see: \n",
    "\n",
    "- [Medium (Alex Ewerlöf): Anonymization vs. Pseudonymization](https://medium.com/@alexewerlof/gdpr-pseudonymization-techniques-62f7b3b46a56)\n",
    "- [KIProtect: GDPR for Data Science](https://kiprotect.com/blog/gdpr_for_data_science.html)\n",
    "- [IAPP: Anonymization and Pseudonymization Compared in relation to GDPR compliance](https://iapp.org/media/pdf/resource_center/PA_WP2-Anonymous-pseudonymous-comparison.pdf)\n",
    "\n",
    "\n",
    "To test out more [KIProtect](https://kiprotect.com) API calls, please [sign up](https://kiprotect.com/signup.html) on our site."
   ]
  },
  {
   "cell_type": "code",
   "execution_count": 1,
   "metadata": {},
   "outputs": [],
   "source": [
    "import base64\n",
    "from hashlib import blake2b\n",
    "\n",
    "import pandas as pd\n",
    "import requests\n",
    "\n",
    "from faker import Faker"
   ]
  },
  {
   "cell_type": "markdown",
   "metadata": {},
   "source": [
    "#### Precheck: What is our data? \n",
    "- What information is contained in our data?\n",
    "- What privacy concerns are there?\n",
    "- How should we proceed?"
   ]
  },
  {
   "cell_type": "code",
   "execution_count": 2,
   "metadata": {},
   "outputs": [],
   "source": [
    "df = pd.read_csv('../data/iot_example.csv')"
   ]
  },
  {
   "cell_type": "code",
   "execution_count": 3,
   "metadata": {},
   "outputs": [
    {
     "data": {
      "text/html": [
       "<div>\n",
       "<style scoped>\n",
       "    .dataframe tbody tr th:only-of-type {\n",
       "        vertical-align: middle;\n",
       "    }\n",
       "\n",
       "    .dataframe tbody tr th {\n",
       "        vertical-align: top;\n",
       "    }\n",
       "\n",
       "    .dataframe thead th {\n",
       "        text-align: right;\n",
       "    }\n",
       "</style>\n",
       "<table border=\"1\" class=\"dataframe\">\n",
       "  <thead>\n",
       "    <tr style=\"text-align: right;\">\n",
       "      <th></th>\n",
       "      <th>timestamp</th>\n",
       "      <th>username</th>\n",
       "      <th>temperature</th>\n",
       "      <th>heartrate</th>\n",
       "      <th>build</th>\n",
       "      <th>latest</th>\n",
       "      <th>note</th>\n",
       "    </tr>\n",
       "  </thead>\n",
       "  <tbody>\n",
       "    <tr>\n",
       "      <th>0</th>\n",
       "      <td>2017-01-01T12:00:23</td>\n",
       "      <td>michaelsmith</td>\n",
       "      <td>12</td>\n",
       "      <td>67</td>\n",
       "      <td>4e6a7805-8faa-2768-6ef6-eb3198b483ac</td>\n",
       "      <td>0</td>\n",
       "      <td>interval</td>\n",
       "    </tr>\n",
       "    <tr>\n",
       "      <th>1</th>\n",
       "      <td>2017-01-01T12:01:09</td>\n",
       "      <td>kharrison</td>\n",
       "      <td>6</td>\n",
       "      <td>78</td>\n",
       "      <td>7256b7b0-e502-f576-62ec-ed73533c9c84</td>\n",
       "      <td>0</td>\n",
       "      <td>wake</td>\n",
       "    </tr>\n",
       "    <tr>\n",
       "      <th>2</th>\n",
       "      <td>2017-01-01T12:01:34</td>\n",
       "      <td>smithadam</td>\n",
       "      <td>5</td>\n",
       "      <td>89</td>\n",
       "      <td>9226c94b-bb4b-a6c8-8e02-cb42b53e9c90</td>\n",
       "      <td>0</td>\n",
       "      <td>NaN</td>\n",
       "    </tr>\n",
       "    <tr>\n",
       "      <th>3</th>\n",
       "      <td>2017-01-01T12:02:09</td>\n",
       "      <td>eddierodriguez</td>\n",
       "      <td>28</td>\n",
       "      <td>76</td>\n",
       "      <td>2599ac79-e5e0-5117-b8e1-57e5ced036f7</td>\n",
       "      <td>0</td>\n",
       "      <td>update</td>\n",
       "    </tr>\n",
       "    <tr>\n",
       "      <th>4</th>\n",
       "      <td>2017-01-01T12:02:36</td>\n",
       "      <td>kenneth94</td>\n",
       "      <td>29</td>\n",
       "      <td>62</td>\n",
       "      <td>122f1c6a-403c-2221-6ed1-b5caa08f11e0</td>\n",
       "      <td>0</td>\n",
       "      <td>user</td>\n",
       "    </tr>\n",
       "  </tbody>\n",
       "</table>\n",
       "</div>"
      ],
      "text/plain": [
       "             timestamp        username  temperature  heartrate  \\\n",
       "0  2017-01-01T12:00:23    michaelsmith           12         67   \n",
       "1  2017-01-01T12:01:09       kharrison            6         78   \n",
       "2  2017-01-01T12:01:34       smithadam            5         89   \n",
       "3  2017-01-01T12:02:09  eddierodriguez           28         76   \n",
       "4  2017-01-01T12:02:36       kenneth94           29         62   \n",
       "\n",
       "                                  build  latest      note  \n",
       "0  4e6a7805-8faa-2768-6ef6-eb3198b483ac       0  interval  \n",
       "1  7256b7b0-e502-f576-62ec-ed73533c9c84       0      wake  \n",
       "2  9226c94b-bb4b-a6c8-8e02-cb42b53e9c90       0       NaN  \n",
       "3  2599ac79-e5e0-5117-b8e1-57e5ced036f7       0    update  \n",
       "4  122f1c6a-403c-2221-6ed1-b5caa08f11e0       0      user  "
      ]
     },
     "execution_count": 3,
     "metadata": {},
     "output_type": "execute_result"
    }
   ],
   "source": [
    "df.head()"
   ]
  },
  {
   "cell_type": "markdown",
   "metadata": {},
   "source": [
    "#### Section One: Hashing\n",
    "\n",
    "- Applying the blake2b hash\n",
    "- Allowing for de-pseudonymization\n",
    "- Creating a reusable method for hashing"
   ]
  },
  {
   "cell_type": "code",
   "execution_count": 4,
   "metadata": {},
   "outputs": [],
   "source": [
    "username = df.iloc[0,1]"
   ]
  },
  {
   "cell_type": "code",
   "execution_count": 5,
   "metadata": {},
   "outputs": [
    {
     "data": {
      "text/plain": [
       "b'michaelsmith'"
      ]
     },
     "execution_count": 5,
     "metadata": {},
     "output_type": "execute_result"
    }
   ],
   "source": [
    "username = username.encode(\"utf-8\")\n",
    "username"
   ]
  },
  {
   "cell_type": "code",
   "execution_count": 6,
   "metadata": {},
   "outputs": [
    {
     "data": {
      "text/plain": [
       "'a2a858011c0917154cdf8edce30d399e37df5f13217fa6d2959e453dd5245eb73a0787f0784d0c1969df51a48dc5a6664a59b724e33962be6ed4a9f0424ecb43'"
      ]
     },
     "execution_count": 6,
     "metadata": {},
     "output_type": "execute_result"
    }
   ],
   "source": [
    "hasher = blake2b()\n",
    "hasher.update(username)\n",
    "hasher.hexdigest()"
   ]
  },
  {
   "cell_type": "markdown",
   "metadata": {},
   "source": [
    "Oops. What went wrong? How can we fix?"
   ]
  },
  {
   "cell_type": "code",
   "execution_count": 18,
   "metadata": {},
   "outputs": [],
   "source": [
    "username = username.decode(\"utf-8\")"
   ]
  },
  {
   "cell_type": "code",
   "execution_count": 19,
   "metadata": {},
   "outputs": [],
   "source": [
    "# %load ../solutions/proper_encoding.py\n",
    "\n"
   ]
  },
  {
   "cell_type": "markdown",
   "metadata": {},
   "source": [
    "Great! Now we have a hash. Michael is safe! (or [is he?](https://nakedsecurity.sophos.com/2014/06/24/new-york-city-makes-a-hash-of-taxi-driver-data-disclosure/))\n",
    "\n",
    "But... what if we need to later determine that michaelsmith is a2a858011c091715...."
   ]
  },
  {
   "cell_type": "code",
   "execution_count": 20,
   "metadata": {},
   "outputs": [
    {
     "data": {
      "text/plain": [
       "<_blake2.blake2b at 0x116072750>"
      ]
     },
     "execution_count": 20,
     "metadata": {},
     "output_type": "execute_result"
    }
   ],
   "source": [
    "hasher"
   ]
  },
  {
   "cell_type": "markdown",
   "metadata": {},
   "source": [
    "Okay, let's try something that we can reverse..."
   ]
  },
  {
   "cell_type": "code",
   "execution_count": 31,
   "metadata": {},
   "outputs": [],
   "source": [
    "# From https://stackoverflow.com/questions/2490334/simple-way-to-encode-a-string-according-to-a-password\n",
    "\n",
    "def encode(key, clear):\n",
    "    enc = []\n",
    "    for i in range(len(clear)):\n",
    "        key_c = key[i % len(key)]\n",
    "        #print(key_c)\n",
    "        enc_c = (ord(clear[i]) + ord(key_c)) % 256\n",
    "        #print(enc_c)\n",
    "        enc.append(enc_c)\n",
    "    return base64.urlsafe_b64encode(bytes(enc))\n",
    "\n",
    "def decode(key, enc):\n",
    "    dec = []\n",
    "    enc = base64.urlsafe_b64decode(enc)\n",
    "    for i in range(len(enc)):\n",
    "        key_c = key[i % len(key)]\n",
    "        dec_c = chr((256 + enc[i] - ord(key_c)) % 256)\n",
    "        dec.append(dec_c)\n",
    "    return \"\".join(dec)"
   ]
  },
  {
   "cell_type": "code",
   "execution_count": 32,
   "metadata": {},
   "outputs": [
    {
     "data": {
      "text/plain": [
       "b'4N7TycDY0dbfzujb'"
      ]
     },
     "execution_count": 32,
     "metadata": {},
     "output_type": "execute_result"
    }
   ],
   "source": [
    "encode('supa_secret', username)"
   ]
  },
  {
   "cell_type": "code",
   "execution_count": 33,
   "metadata": {},
   "outputs": [
    {
     "data": {
      "text/plain": [
       "'michaelsmith'"
      ]
     },
     "execution_count": 33,
     "metadata": {},
     "output_type": "execute_result"
    }
   ],
   "source": [
    "decode('supa_secret', b'4N7TycDY0dbfzujb')"
   ]
  },
  {
   "cell_type": "markdown",
   "metadata": {},
   "source": [
    "#### Challenge\n",
    "\n",
    "- Can you come up with another string which will properly decode the secret which is *not* the same as the original key?\n",
    "- Hint: Take a look at the encode method and use the print statements for a clue."
   ]
  },
  {
   "cell_type": "code",
   "execution_count": null,
   "metadata": {},
   "outputs": [],
   "source": []
  },
  {
   "cell_type": "code",
   "execution_count": 34,
   "metadata": {},
   "outputs": [],
   "source": [
    "# %load ../solutions/lockpick.py\n"
   ]
  },
  {
   "cell_type": "markdown",
   "metadata": {},
   "source": [
    "Welp. That maybe is not so great... "
   ]
  },
  {
   "cell_type": "markdown",
   "metadata": {},
   "source": [
    "#### Section Two: Data Masking and Tokenization\n",
    "\n",
    "- What should we mask?\n",
    "- How?\n",
    "- What do we do if we need realistic values?"
   ]
  },
  {
   "cell_type": "code",
   "execution_count": 35,
   "metadata": {},
   "outputs": [
    {
     "data": {
      "text/html": [
       "<div>\n",
       "<style scoped>\n",
       "    .dataframe tbody tr th:only-of-type {\n",
       "        vertical-align: middle;\n",
       "    }\n",
       "\n",
       "    .dataframe tbody tr th {\n",
       "        vertical-align: top;\n",
       "    }\n",
       "\n",
       "    .dataframe thead th {\n",
       "        text-align: right;\n",
       "    }\n",
       "</style>\n",
       "<table border=\"1\" class=\"dataframe\">\n",
       "  <thead>\n",
       "    <tr style=\"text-align: right;\">\n",
       "      <th></th>\n",
       "      <th>timestamp</th>\n",
       "      <th>username</th>\n",
       "      <th>temperature</th>\n",
       "      <th>heartrate</th>\n",
       "      <th>build</th>\n",
       "      <th>latest</th>\n",
       "      <th>note</th>\n",
       "    </tr>\n",
       "  </thead>\n",
       "  <tbody>\n",
       "    <tr>\n",
       "      <th>19904</th>\n",
       "      <td>2017-01-09T10:45:39</td>\n",
       "      <td>shawalyssa</td>\n",
       "      <td>27</td>\n",
       "      <td>78</td>\n",
       "      <td>a80ab45d-4cc6-53fa-72d3-d453493d80c2</td>\n",
       "      <td>0</td>\n",
       "      <td>update</td>\n",
       "    </tr>\n",
       "    <tr>\n",
       "      <th>51731</th>\n",
       "      <td>2017-01-22T04:06:55</td>\n",
       "      <td>wwright</td>\n",
       "      <td>9</td>\n",
       "      <td>81</td>\n",
       "      <td>e666f6f9-43a9-307a-36ba-59f1c283106a</td>\n",
       "      <td>1</td>\n",
       "      <td>user</td>\n",
       "    </tr>\n",
       "  </tbody>\n",
       "</table>\n",
       "</div>"
      ],
      "text/plain": [
       "                 timestamp    username  temperature  heartrate  \\\n",
       "19904  2017-01-09T10:45:39  shawalyssa           27         78   \n",
       "51731  2017-01-22T04:06:55     wwright            9         81   \n",
       "\n",
       "                                      build  latest    note  \n",
       "19904  a80ab45d-4cc6-53fa-72d3-d453493d80c2       0  update  \n",
       "51731  e666f6f9-43a9-307a-36ba-59f1c283106a       1    user  "
      ]
     },
     "execution_count": 35,
     "metadata": {},
     "output_type": "execute_result"
    }
   ],
   "source": [
    "df.sample(2)"
   ]
  },
  {
   "cell_type": "code",
   "execution_count": 36,
   "metadata": {},
   "outputs": [],
   "source": [
    "super_masked = df.applymap(lambda x: 'NOPE')"
   ]
  },
  {
   "cell_type": "code",
   "execution_count": 37,
   "metadata": {},
   "outputs": [
    {
     "data": {
      "text/html": [
       "<div>\n",
       "<style scoped>\n",
       "    .dataframe tbody tr th:only-of-type {\n",
       "        vertical-align: middle;\n",
       "    }\n",
       "\n",
       "    .dataframe tbody tr th {\n",
       "        vertical-align: top;\n",
       "    }\n",
       "\n",
       "    .dataframe thead th {\n",
       "        text-align: right;\n",
       "    }\n",
       "</style>\n",
       "<table border=\"1\" class=\"dataframe\">\n",
       "  <thead>\n",
       "    <tr style=\"text-align: right;\">\n",
       "      <th></th>\n",
       "      <th>timestamp</th>\n",
       "      <th>username</th>\n",
       "      <th>temperature</th>\n",
       "      <th>heartrate</th>\n",
       "      <th>build</th>\n",
       "      <th>latest</th>\n",
       "      <th>note</th>\n",
       "    </tr>\n",
       "  </thead>\n",
       "  <tbody>\n",
       "    <tr>\n",
       "      <th>0</th>\n",
       "      <td>NOPE</td>\n",
       "      <td>NOPE</td>\n",
       "      <td>NOPE</td>\n",
       "      <td>NOPE</td>\n",
       "      <td>NOPE</td>\n",
       "      <td>NOPE</td>\n",
       "      <td>NOPE</td>\n",
       "    </tr>\n",
       "    <tr>\n",
       "      <th>1</th>\n",
       "      <td>NOPE</td>\n",
       "      <td>NOPE</td>\n",
       "      <td>NOPE</td>\n",
       "      <td>NOPE</td>\n",
       "      <td>NOPE</td>\n",
       "      <td>NOPE</td>\n",
       "      <td>NOPE</td>\n",
       "    </tr>\n",
       "    <tr>\n",
       "      <th>2</th>\n",
       "      <td>NOPE</td>\n",
       "      <td>NOPE</td>\n",
       "      <td>NOPE</td>\n",
       "      <td>NOPE</td>\n",
       "      <td>NOPE</td>\n",
       "      <td>NOPE</td>\n",
       "      <td>NOPE</td>\n",
       "    </tr>\n",
       "    <tr>\n",
       "      <th>3</th>\n",
       "      <td>NOPE</td>\n",
       "      <td>NOPE</td>\n",
       "      <td>NOPE</td>\n",
       "      <td>NOPE</td>\n",
       "      <td>NOPE</td>\n",
       "      <td>NOPE</td>\n",
       "      <td>NOPE</td>\n",
       "    </tr>\n",
       "    <tr>\n",
       "      <th>4</th>\n",
       "      <td>NOPE</td>\n",
       "      <td>NOPE</td>\n",
       "      <td>NOPE</td>\n",
       "      <td>NOPE</td>\n",
       "      <td>NOPE</td>\n",
       "      <td>NOPE</td>\n",
       "      <td>NOPE</td>\n",
       "    </tr>\n",
       "  </tbody>\n",
       "</table>\n",
       "</div>"
      ],
      "text/plain": [
       "  timestamp username temperature heartrate build latest  note\n",
       "0      NOPE     NOPE        NOPE      NOPE  NOPE   NOPE  NOPE\n",
       "1      NOPE     NOPE        NOPE      NOPE  NOPE   NOPE  NOPE\n",
       "2      NOPE     NOPE        NOPE      NOPE  NOPE   NOPE  NOPE\n",
       "3      NOPE     NOPE        NOPE      NOPE  NOPE   NOPE  NOPE\n",
       "4      NOPE     NOPE        NOPE      NOPE  NOPE   NOPE  NOPE"
      ]
     },
     "execution_count": 37,
     "metadata": {},
     "output_type": "execute_result"
    }
   ],
   "source": [
    "super_masked.head()"
   ]
  },
  {
   "cell_type": "markdown",
   "metadata": {},
   "source": [
    "😜\n",
    "\n",
    "Okay, no more jokes. But masking usually is just that. Replace your senstive data with some sort of represetation.\n",
    "\n",
    "But instead, we could also tokenize the data. This means to replace it with random fictitious data. How do we tokenize this?"
   ]
  },
  {
   "cell_type": "code",
   "execution_count": 38,
   "metadata": {},
   "outputs": [],
   "source": [
    "fakes = Faker()"
   ]
  },
  {
   "cell_type": "code",
   "execution_count": 39,
   "metadata": {},
   "outputs": [
    {
     "data": {
      "text/plain": [
       "'Kayla Myers'"
      ]
     },
     "execution_count": 39,
     "metadata": {},
     "output_type": "execute_result"
    }
   ],
   "source": [
    "fakes.name()"
   ]
  },
  {
   "cell_type": "code",
   "execution_count": 41,
   "metadata": {},
   "outputs": [
    {
     "data": {
      "text/plain": [
       "<faker.generator.Generator at 0x110879ac8>"
      ]
     },
     "execution_count": 41,
     "metadata": {},
     "output_type": "execute_result"
    }
   ],
   "source": [
    "fakes"
   ]
  },
  {
   "cell_type": "code",
   "execution_count": 42,
   "metadata": {},
   "outputs": [
    {
     "data": {
      "text/plain": [
       "'johnstout'"
      ]
     },
     "execution_count": 42,
     "metadata": {},
     "output_type": "execute_result"
    }
   ],
   "source": [
    "fakes.user_name()"
   ]
  },
  {
   "cell_type": "markdown",
   "metadata": {},
   "source": [
    "#### Challenge\n",
    "\n",
    "Make a new column `pseudonym` which masks the data using the faker `user_name` method."
   ]
  },
  {
   "cell_type": "code",
   "execution_count": null,
   "metadata": {},
   "outputs": [],
   "source": []
  },
  {
   "cell_type": "code",
   "execution_count": 43,
   "metadata": {},
   "outputs": [],
   "source": [
    "# %load ../solutions/masked_pseudonym.py\n",
    "\n"
   ]
  },
  {
   "cell_type": "markdown",
   "metadata": {},
   "source": [
    "Whaaaa!?!? Pretty cool, eh? \n",
    "\n",
    "(In case you want to read up on [how it works](https://github.com/joke2k/faker/blob/06d323f6cff95103d4ccda03f5d4ab2c45334e46/faker/providers/internet/__init__.py#L162))\n",
    "\n",
    "But.. we can't reverse it. It is tuned per locale (usually using probabilities based on names in locale). That said, works fabulous for test data!"
   ]
  },
  {
   "cell_type": "markdown",
   "metadata": {},
   "source": [
    "#### Step Three: Homomorphic Pseudonymization"
   ]
  },
  {
   "cell_type": "code",
   "execution_count": 44,
   "metadata": {},
   "outputs": [],
   "source": [
    "## This key is shared in trust (please do not abuse)!! \n",
    "## We will leave it active for a few days. \n",
    "## However, you can sign up for your own key on our site \n",
    "## https://kiprotect.com\n",
    "\n",
    "SHARED_KEY = '42a2d3fc1cc449e2a27ddd457e056012'"
   ]
  },
  {
   "cell_type": "markdown",
   "metadata": {},
   "source": [
    "##### Finding Nulls\n",
    "\n",
    "We need to create valid JSON, but Pandas and numpy don't make this easy if you have null values. How can we test for nulls?"
   ]
  },
  {
   "cell_type": "code",
   "execution_count": 45,
   "metadata": {},
   "outputs": [
    {
     "data": {
      "text/plain": [
       "timestamp      False\n",
       "username       False\n",
       "temperature    False\n",
       "heartrate      False\n",
       "build          False\n",
       "latest         False\n",
       "note            True\n",
       "dtype: bool"
      ]
     },
     "execution_count": 45,
     "metadata": {},
     "output_type": "execute_result"
    }
   ],
   "source": [
    "df.isnull().any()"
   ]
  },
  {
   "cell_type": "code",
   "execution_count": 46,
   "metadata": {},
   "outputs": [
    {
     "data": {
      "text/plain": [
       "20899"
      ]
     },
     "execution_count": 46,
     "metadata": {},
     "output_type": "execute_result"
    }
   ],
   "source": [
    "df.note.isnull().sum()"
   ]
  },
  {
   "cell_type": "code",
   "execution_count": 47,
   "metadata": {},
   "outputs": [
    {
     "data": {
      "text/plain": [
       "0.16652855025578098"
      ]
     },
     "execution_count": 47,
     "metadata": {},
     "output_type": "execute_result"
    }
   ],
   "source": [
    "df.note.isnull().sum() / df.note.count()"
   ]
  },
  {
   "cell_type": "code",
   "execution_count": 48,
   "metadata": {},
   "outputs": [
    {
     "data": {
      "text/plain": [
       "dtype('O')"
      ]
     },
     "execution_count": 48,
     "metadata": {},
     "output_type": "execute_result"
    }
   ],
   "source": [
    "df.note.dtype"
   ]
  },
  {
   "cell_type": "code",
   "execution_count": 49,
   "metadata": {},
   "outputs": [
    {
     "data": {
      "text/plain": [
       "wake        21245\n",
       "user        21032\n",
       "interval    20935\n",
       "sleep       20925\n",
       "update      20734\n",
       "test        20627\n",
       "Name: note, dtype: int64"
      ]
     },
     "execution_count": 49,
     "metadata": {},
     "output_type": "execute_result"
    }
   ],
   "source": [
    "df.note.value_counts()"
   ]
  },
  {
   "cell_type": "code",
   "execution_count": 50,
   "metadata": {},
   "outputs": [],
   "source": [
    "jsonable_df = df.fillna('')"
   ]
  },
  {
   "cell_type": "markdown",
   "metadata": {},
   "source": [
    "##### Creating a list of JSON items"
   ]
  },
  {
   "cell_type": "code",
   "execution_count": 51,
   "metadata": {},
   "outputs": [],
   "source": [
    "items = jsonable_df.iloc[:10].T.to_dict()"
   ]
  },
  {
   "cell_type": "code",
   "execution_count": 52,
   "metadata": {},
   "outputs": [
    {
     "data": {
      "text/plain": [
       "{0: {'timestamp': '2017-01-01T12:00:23',\n",
       "  'username': 'michaelsmith',\n",
       "  'temperature': 12,\n",
       "  'heartrate': 67,\n",
       "  'build': '4e6a7805-8faa-2768-6ef6-eb3198b483ac',\n",
       "  'latest': 0,\n",
       "  'note': 'interval'},\n",
       " 1: {'timestamp': '2017-01-01T12:01:09',\n",
       "  'username': 'kharrison',\n",
       "  'temperature': 6,\n",
       "  'heartrate': 78,\n",
       "  'build': '7256b7b0-e502-f576-62ec-ed73533c9c84',\n",
       "  'latest': 0,\n",
       "  'note': 'wake'},\n",
       " 2: {'timestamp': '2017-01-01T12:01:34',\n",
       "  'username': 'smithadam',\n",
       "  'temperature': 5,\n",
       "  'heartrate': 89,\n",
       "  'build': '9226c94b-bb4b-a6c8-8e02-cb42b53e9c90',\n",
       "  'latest': 0,\n",
       "  'note': ''},\n",
       " 3: {'timestamp': '2017-01-01T12:02:09',\n",
       "  'username': 'eddierodriguez',\n",
       "  'temperature': 28,\n",
       "  'heartrate': 76,\n",
       "  'build': '2599ac79-e5e0-5117-b8e1-57e5ced036f7',\n",
       "  'latest': 0,\n",
       "  'note': 'update'},\n",
       " 4: {'timestamp': '2017-01-01T12:02:36',\n",
       "  'username': 'kenneth94',\n",
       "  'temperature': 29,\n",
       "  'heartrate': 62,\n",
       "  'build': '122f1c6a-403c-2221-6ed1-b5caa08f11e0',\n",
       "  'latest': 0,\n",
       "  'note': 'user'},\n",
       " 5: {'timestamp': '2017-01-01T12:03:04',\n",
       "  'username': 'bryanttodd',\n",
       "  'temperature': 13,\n",
       "  'heartrate': 86,\n",
       "  'build': '0897dbe5-9c5b-71ca-73a1-7586959ca198',\n",
       "  'latest': 0,\n",
       "  'note': 'interval'},\n",
       " 6: {'timestamp': '2017-01-01T12:03:51',\n",
       "  'username': 'andrea98',\n",
       "  'temperature': 17,\n",
       "  'heartrate': 81,\n",
       "  'build': '1c07ab9b-5f66-137d-a74f-921a41001f4e',\n",
       "  'latest': 1,\n",
       "  'note': 'interval'},\n",
       " 7: {'timestamp': '2017-01-01T12:04:35',\n",
       "  'username': 'scott28',\n",
       "  'temperature': 16,\n",
       "  'heartrate': 76,\n",
       "  'build': '7a60219f-6621-e548-180e-ca69624f9824',\n",
       "  'latest': 1,\n",
       "  'note': 'interval'},\n",
       " 8: {'timestamp': '2017-01-01T12:05:05',\n",
       "  'username': 'hillpamela',\n",
       "  'temperature': 5,\n",
       "  'heartrate': 82,\n",
       "  'build': 'a8b87754-a162-da28-2527-4bce4b3d4191',\n",
       "  'latest': 1,\n",
       "  'note': ''},\n",
       " 9: {'timestamp': '2017-01-01T12:05:41',\n",
       "  'username': 'moorejeffrey',\n",
       "  'temperature': 25,\n",
       "  'heartrate': 63,\n",
       "  'build': '585f1a3c-0679-0ffe-9132-508933c70343',\n",
       "  'latest': 0,\n",
       "  'note': 'wake'}}"
      ]
     },
     "execution_count": 52,
     "metadata": {},
     "output_type": "execute_result"
    }
   ],
   "source": [
    "items"
   ]
  },
  {
   "cell_type": "code",
   "execution_count": 53,
   "metadata": {},
   "outputs": [],
   "source": [
    "item_list = list(items.values())"
   ]
  },
  {
   "cell_type": "code",
   "execution_count": 54,
   "metadata": {},
   "outputs": [],
   "source": [
    "actions = [\n",
    "    {\n",
    "        \"name\": \"pseudonymize-username\",\n",
    "        \"transform-value\" : {\n",
    "            \"key\": \"username\",\n",
    "            \"pseudonymize\" : {\n",
    "                \"method\": \"merengue\",\n",
    "                \"key\": \"supa_secret\", \n",
    "            }\n",
    "        }\n",
    "    }\n",
    "]"
   ]
  },
  {
   "cell_type": "code",
   "execution_count": 56,
   "metadata": {},
   "outputs": [],
   "source": [
    "import json\n",
    "data = requests.post(\n",
    "    'https://api.kiprotect.com/v1/transform', \n",
    "    data = json.dumps(\n",
    "        {\"actions\": actions, \"items\": item_list}, \n",
    "        allow_nan=False),\n",
    "    headers = {'Authorization': 'Bearer {}'.format(\n",
    "        SHARED_KEY)}\n",
    ")"
   ]
  },
  {
   "cell_type": "code",
   "execution_count": 57,
   "metadata": {},
   "outputs": [
    {
     "data": {
      "text/plain": [
       "{'items': [{'_kip': '64656661756c74',\n",
       "   'build': '4e6a7805-8faa-2768-6ef6-eb3198b483ac',\n",
       "   'heartrate': 67,\n",
       "   'latest': 0,\n",
       "   'note': 'interval',\n",
       "   'temperature': 12,\n",
       "   'timestamp': '2017-01-01T12:00:23',\n",
       "   'username': '588vluH4QrwB+7Kn'},\n",
       "  {'_kip': '64656661756c74',\n",
       "   'build': '7256b7b0-e502-f576-62ec-ed73533c9c84',\n",
       "   'heartrate': 78,\n",
       "   'latest': 0,\n",
       "   'note': 'wake',\n",
       "   'temperature': 6,\n",
       "   'timestamp': '2017-01-01T12:01:09',\n",
       "   'username': 'UeaqfY0ffyHi'},\n",
       "  {'_kip': '64656661756c74',\n",
       "   'build': '9226c94b-bb4b-a6c8-8e02-cb42b53e9c90',\n",
       "   'heartrate': 89,\n",
       "   'latest': 0,\n",
       "   'note': '',\n",
       "   'temperature': 5,\n",
       "   'timestamp': '2017-01-01T12:01:34',\n",
       "   'username': '2aVk3sbIkBe6'},\n",
       "  {'_kip': '64656661756c74',\n",
       "   'build': '2599ac79-e5e0-5117-b8e1-57e5ced036f7',\n",
       "   'heartrate': 76,\n",
       "   'latest': 0,\n",
       "   'note': 'update',\n",
       "   'temperature': 28,\n",
       "   'timestamp': '2017-01-01T12:02:09',\n",
       "   'username': 'jwDBYBiKqj9aRT/RiDo='},\n",
       "  {'_kip': '64656661756c74',\n",
       "   'build': '122f1c6a-403c-2221-6ed1-b5caa08f11e0',\n",
       "   'heartrate': 62,\n",
       "   'latest': 0,\n",
       "   'note': 'user',\n",
       "   'temperature': 29,\n",
       "   'timestamp': '2017-01-01T12:02:36',\n",
       "   'username': 'UfOE5fW1umXF'},\n",
       "  {'_kip': '64656661756c74',\n",
       "   'build': '0897dbe5-9c5b-71ca-73a1-7586959ca198',\n",
       "   'heartrate': 86,\n",
       "   'latest': 0,\n",
       "   'note': 'interval',\n",
       "   'temperature': 13,\n",
       "   'timestamp': '2017-01-01T12:03:04',\n",
       "   'username': 'jBnm3VKcLqdpdA=='},\n",
       "  {'_kip': '64656661756c74',\n",
       "   'build': '1c07ab9b-5f66-137d-a74f-921a41001f4e',\n",
       "   'heartrate': 81,\n",
       "   'latest': 1,\n",
       "   'note': 'interval',\n",
       "   'temperature': 17,\n",
       "   'timestamp': '2017-01-01T12:03:51',\n",
       "   'username': '0xtZmGEUrFQ='},\n",
       "  {'_kip': '64656661756c74',\n",
       "   'build': '7a60219f-6621-e548-180e-ca69624f9824',\n",
       "   'heartrate': 76,\n",
       "   'latest': 1,\n",
       "   'note': 'interval',\n",
       "   'temperature': 16,\n",
       "   'timestamp': '2017-01-01T12:04:35',\n",
       "   'username': '2a+RF0nfvQ=='},\n",
       "  {'_kip': '64656661756c74',\n",
       "   'build': 'a8b87754-a162-da28-2527-4bce4b3d4191',\n",
       "   'heartrate': 82,\n",
       "   'latest': 1,\n",
       "   'note': '',\n",
       "   'temperature': 5,\n",
       "   'timestamp': '2017-01-01T12:05:05',\n",
       "   'username': 'Bqjh0ptQP/g3WQ=='},\n",
       "  {'_kip': '64656661756c74',\n",
       "   'build': '585f1a3c-0679-0ffe-9132-508933c70343',\n",
       "   'heartrate': 63,\n",
       "   'latest': 0,\n",
       "   'note': 'wake',\n",
       "   'temperature': 25,\n",
       "   'timestamp': '2017-01-01T12:05:41',\n",
       "   'username': '54UgMgRQFOUAn0qA'}],\n",
       " 'params': {'64656661756c74': {'pseudonymize-username': {'key': 'eqfTKSR7ipH4KuHjHiJoTYD0liqf3xjPn9VgViwaKKM='}}}}"
      ]
     },
     "execution_count": 57,
     "metadata": {},
     "output_type": "execute_result"
    }
   ],
   "source": [
    "data.json()"
   ]
  },
  {
   "cell_type": "code",
   "execution_count": 58,
   "metadata": {},
   "outputs": [],
   "source": [
    "depseudonymize_actions = [\n",
    "    {\n",
    "        \"name\": \"encode-username\",\n",
    "        \"transform-value\": {\n",
    "        \"key\": \"username\",\n",
    "        \"decode\": {\n",
    "            \"format\": \"base64\"\n",
    "        }}\n",
    "    },\n",
    "    {\n",
    "        \"name\": \"depseudonymize-username\",\n",
    "        \"transform-value\" : {\n",
    "            \"key\": \"username\",\n",
    "            \"depseudonymize\" : {\n",
    "                \"method\": \"merengue\",\n",
    "                \"key\": \"supa_secret\"\n",
    "            }\n",
    "        }\n",
    "    },\n",
    "    {\n",
    "        \"name\": \"encode-username\",\n",
    "        \"transform-value\": {\n",
    "        \"key\": \"username\",\n",
    "        \"encode\": {\n",
    "            \"format\": \"utf-8\"\n",
    "        }}  \n",
    "    }   \n",
    "]"
   ]
  },
  {
   "cell_type": "code",
   "execution_count": 59,
   "metadata": {},
   "outputs": [],
   "source": [
    "depseudonymized_data = requests.post(\n",
    "    'https://api.kiprotect.com/v1/transform', \n",
    "    json = {'actions': depseudonymize_actions, \n",
    "            'items': data.json()['items']},\n",
    "    headers = {'Authorization': 'Bearer {}'.format(\n",
    "        SHARED_KEY)}\n",
    ")"
   ]
  },
  {
   "cell_type": "code",
   "execution_count": 60,
   "metadata": {},
   "outputs": [
    {
     "data": {
      "text/plain": [
       "{'items': [{'_kip': '64656661756c74',\n",
       "   'build': '4e6a7805-8faa-2768-6ef6-eb3198b483ac',\n",
       "   'heartrate': 67,\n",
       "   'latest': 0,\n",
       "   'note': 'interval',\n",
       "   'temperature': 12,\n",
       "   'timestamp': '2017-01-01T12:00:23',\n",
       "   'username': 'michaelsmith'},\n",
       "  {'_kip': '64656661756c74',\n",
       "   'build': '7256b7b0-e502-f576-62ec-ed73533c9c84',\n",
       "   'heartrate': 78,\n",
       "   'latest': 0,\n",
       "   'note': 'wake',\n",
       "   'temperature': 6,\n",
       "   'timestamp': '2017-01-01T12:01:09',\n",
       "   'username': 'kharrison'},\n",
       "  {'_kip': '64656661756c74',\n",
       "   'build': '9226c94b-bb4b-a6c8-8e02-cb42b53e9c90',\n",
       "   'heartrate': 89,\n",
       "   'latest': 0,\n",
       "   'note': '',\n",
       "   'temperature': 5,\n",
       "   'timestamp': '2017-01-01T12:01:34',\n",
       "   'username': 'smithadam'},\n",
       "  {'_kip': '64656661756c74',\n",
       "   'build': '2599ac79-e5e0-5117-b8e1-57e5ced036f7',\n",
       "   'heartrate': 76,\n",
       "   'latest': 0,\n",
       "   'note': 'update',\n",
       "   'temperature': 28,\n",
       "   'timestamp': '2017-01-01T12:02:09',\n",
       "   'username': 'eddierodriguez'},\n",
       "  {'_kip': '64656661756c74',\n",
       "   'build': '122f1c6a-403c-2221-6ed1-b5caa08f11e0',\n",
       "   'heartrate': 62,\n",
       "   'latest': 0,\n",
       "   'note': 'user',\n",
       "   'temperature': 29,\n",
       "   'timestamp': '2017-01-01T12:02:36',\n",
       "   'username': 'kenneth94'},\n",
       "  {'_kip': '64656661756c74',\n",
       "   'build': '0897dbe5-9c5b-71ca-73a1-7586959ca198',\n",
       "   'heartrate': 86,\n",
       "   'latest': 0,\n",
       "   'note': 'interval',\n",
       "   'temperature': 13,\n",
       "   'timestamp': '2017-01-01T12:03:04',\n",
       "   'username': 'bryanttodd'},\n",
       "  {'_kip': '64656661756c74',\n",
       "   'build': '1c07ab9b-5f66-137d-a74f-921a41001f4e',\n",
       "   'heartrate': 81,\n",
       "   'latest': 1,\n",
       "   'note': 'interval',\n",
       "   'temperature': 17,\n",
       "   'timestamp': '2017-01-01T12:03:51',\n",
       "   'username': 'andrea98'},\n",
       "  {'_kip': '64656661756c74',\n",
       "   'build': '7a60219f-6621-e548-180e-ca69624f9824',\n",
       "   'heartrate': 76,\n",
       "   'latest': 1,\n",
       "   'note': 'interval',\n",
       "   'temperature': 16,\n",
       "   'timestamp': '2017-01-01T12:04:35',\n",
       "   'username': 'scott28'},\n",
       "  {'_kip': '64656661756c74',\n",
       "   'build': 'a8b87754-a162-da28-2527-4bce4b3d4191',\n",
       "   'heartrate': 82,\n",
       "   'latest': 1,\n",
       "   'note': '',\n",
       "   'temperature': 5,\n",
       "   'timestamp': '2017-01-01T12:05:05',\n",
       "   'username': 'hillpamela'},\n",
       "  {'_kip': '64656661756c74',\n",
       "   'build': '585f1a3c-0679-0ffe-9132-508933c70343',\n",
       "   'heartrate': 63,\n",
       "   'latest': 0,\n",
       "   'note': 'wake',\n",
       "   'temperature': 25,\n",
       "   'timestamp': '2017-01-01T12:05:41',\n",
       "   'username': 'moorejeffrey'}],\n",
       " 'params': {'64656661756c74': {'depseudonymize-username': {'key': 'eqfTKSR7ipH4KuHjHiJoTYD0liqf3xjPn9VgViwaKKM='},\n",
       "   'encode-username': None}}}"
      ]
     },
     "execution_count": 60,
     "metadata": {},
     "output_type": "execute_result"
    }
   ],
   "source": [
    "depseudonymized_data.json()"
   ]
  },
  {
   "cell_type": "markdown",
   "metadata": {},
   "source": [
    "#### Challenge\n",
    "\n",
    "Create a function which takes a dataframe and uses the pseudonymization API to pseudonymize a selected subset of columns.\n",
    "\n",
    "It returns a new dataframe of with pseudonymized data.\n",
    "\n",
    "NOTE: Test using just 1k rows so you don't abuse the server please :)"
   ]
  },
  {
   "cell_type": "code",
   "execution_count": null,
   "metadata": {},
   "outputs": [],
   "source": []
  },
  {
   "cell_type": "code",
   "execution_count": null,
   "metadata": {},
   "outputs": [],
   "source": [
    "# %load ../solutions/pseudonymize_columns.py\n"
   ]
  },
  {
   "cell_type": "code",
   "execution_count": null,
   "metadata": {},
   "outputs": [],
   "source": [
    "ps_df = pseudonymize_columns(jsonable_df[:1000], \n",
    "                             ['username', 'note'])\n",
    "ps_df.head()"
   ]
  },
  {
   "cell_type": "code",
   "execution_count": null,
   "metadata": {},
   "outputs": [],
   "source": []
  }
 ],
 "metadata": {
  "kernelspec": {
   "display_name": "Python 3",
   "language": "python",
   "name": "python3"
  },
  "language_info": {
   "codemirror_mode": {
    "name": "ipython",
    "version": 3
   },
   "file_extension": ".py",
   "mimetype": "text/x-python",
   "name": "python",
   "nbconvert_exporter": "python",
   "pygments_lexer": "ipython3",
   "version": "3.6.5"
  }
 },
 "nbformat": 4,
 "nbformat_minor": 2
}
